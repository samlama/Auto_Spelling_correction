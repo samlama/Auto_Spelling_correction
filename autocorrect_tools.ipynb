{
 "cells": [
  {
   "cell_type": "code",
   "execution_count": 1,
   "id": "0e3521bc",
   "metadata": {},
   "outputs": [
    {
     "name": "stdout",
     "output_type": "stream",
     "text": [
      "Requirement already satisfied: pyspellchecker in c:\\users\\user\\anaconda3\\lib\\site-packages (0.7.2)\n",
      "Note: you may need to restart the kernel to use updated packages.\n"
     ]
    }
   ],
   "source": [
    "pip install pyspellchecker"
   ]
  },
  {
   "cell_type": "code",
   "execution_count": 2,
   "id": "20b9c5d5",
   "metadata": {},
   "outputs": [],
   "source": [
    "from spellchecker import SpellChecker\n",
    "spell = SpellChecker()"
   ]
  },
  {
   "cell_type": "code",
   "execution_count": 4,
   "id": "7a69e564",
   "metadata": {},
   "outputs": [
    {
     "name": "stdout",
     "output_type": "stream",
     "text": [
      "Enter the word to be correct:helloo\n",
      "'hello' is the correct or nearest word for needed\n"
     ]
    }
   ],
   "source": [
    "\n",
    "\n",
    "word = input(\"Enter the word to be correct:\")\n",
    "\n",
    "if word in spell:\n",
    "    print(\"'{}' is the correct word\".format(word))\n",
    "else:\n",
    "    corrected_word=spell.correction(word)\n",
    "    print(\"'{}' is the correct or nearest word for needed\".format(corrected_word))"
   ]
  },
  {
   "cell_type": "code",
   "execution_count": null,
   "id": "7da3cd1b",
   "metadata": {},
   "outputs": [],
   "source": []
  }
 ],
 "metadata": {
  "kernelspec": {
   "display_name": "Python 3 (ipykernel)",
   "language": "python",
   "name": "python3"
  },
  "language_info": {
   "codemirror_mode": {
    "name": "ipython",
    "version": 3
   },
   "file_extension": ".py",
   "mimetype": "text/x-python",
   "name": "python",
   "nbconvert_exporter": "python",
   "pygments_lexer": "ipython3",
   "version": "3.9.12"
  }
 },
 "nbformat": 4,
 "nbformat_minor": 5
}
